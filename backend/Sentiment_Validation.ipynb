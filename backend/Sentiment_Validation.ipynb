{
 "cells": [
  {
   "cell_type": "markdown",
   "id": "dea8b242",
   "metadata": {},
   "source": [
    "# Sentiment Reliability Validation for Crypto Headlines\n",
    "\n",
    "This notebook automates the collection of sample crypto headlines from Reddit and RSS feeds, analyzes their sentiment using TextBlob, and visualizes the results."
   ]
  },
  {
   "cell_type": "markdown",
   "id": "89a3adf6",
   "metadata": {},
   "source": [
    "## 1. Import Required Libraries\n",
    "Import praw, feedparser, textblob, dotenv, and other necessary libraries for headline collection and sentiment analysis."
   ]
  },
  {
   "cell_type": "code",
   "execution_count": 2,
   "id": "b7705a83",
   "metadata": {},
   "outputs": [],
   "source": [
    "# Import required libraries\n",
    "import praw\n",
    "import feedparser\n",
    "from textblob import TextBlob\n",
    "import os\n",
    "from dotenv import load_dotenv\n",
    "import matplotlib.pyplot as plt\n",
    "import seaborn as sns\n"
   ]
  },
  {
   "cell_type": "markdown",
   "id": "12eac587",
   "metadata": {},
   "source": [
    "## 2. Set Up Reddit and RSS Credentials\n",
    "Load Reddit API credentials from .env and initialize the Reddit client. Prepare RSS feed URLs for CoinDesk and CoinTelegraph."
   ]
  },
  {
   "cell_type": "code",
   "execution_count": 3,
   "id": "1607781b",
   "metadata": {},
   "outputs": [],
   "source": [
    "# Load environment variables\n",
    "load_dotenv()\n",
    "\n",
    "# Set up Reddit client\n",
    "reddit = praw.Reddit(\n",
    "    client_id=os.getenv('REDDIT_CLIENT_ID'),\n",
    "    client_secret=os.getenv('REDDIT_CLIENT_SECRET'),\n",
    "    user_agent=os.getenv('REDDIT_USER_AGENT'),\n",
    "    username=os.getenv('REDDIT_USERNAME'),\n",
    "    password=os.getenv('REDDIT_PASSWORD')\n",
    ")\n",
    "\n",
    "# RSS feed URLs\n",
    "coindesk_url = 'https://feeds.feedburner.com/CoinDesk'\n",
    "cointelegraph_url = 'https://cointelegraph.com/rss'\n"
   ]
  },
  {
   "cell_type": "markdown",
   "id": "16ff027a",
   "metadata": {},
   "source": [
    "## 3. Fetch Sample Headlines from Reddit\n",
    "Use praw to fetch the latest headlines from r/Bitcoin and r/Ethereum. Store the headlines in lists."
   ]
  },
  {
   "cell_type": "code",
   "execution_count": null,
   "id": "42f6030e",
   "metadata": {},
   "outputs": [
    {
     "name": "stdout",
     "output_type": "stream",
     "text": [
      "Bitcoin Headlines: ['crypto is amazing', 'Bitcoin is now 1.7% of global money', 'They print, we stack.', 'HODL so strong even a coma feels bullish', 'What it feels like to know about ₿!', 'BITCOIN CAN DO WONDERS 🔥🚀', 'Video: On this day in 1971 Nixon “temporarily” took the US dollar off the gold standard. You were promised gold. You got paper. And that paper has been losing value since. Bitcoin fixes this', '16th birthday today, got more sats as a surprise for myself.']\n",
      "Ethereum Headlines: ['Are there any well structured builder communities?', 'EIP-7928 is now confirmed as the second headliner for Ethereum’s upcoming Glamsterdam upgrade.', 'Daily General Discussion August 15, 2025', 'Is it possible to run a full node with 16Gb memory and 1T SSD?', 'The State of Encryption in Web3', 'ethdevnews weekly #2 | Fede donated $500k to free Roman Storm, Hardhat 3 beta, malicious IDE extensions', \"Expected EIPs in Ethereum's Fusaka Upgrade\", 'Does ETF staking pose a threat to the network?']\n"
     ]
    }
   ],
   "source": [
    "# Fetch headlines from Reddit\n",
    "bitcoin_headlines = [submission.title for submission in reddit.subreddit('Bitcoin').hot(limit=10) if not submission.stickied]\n",
    "ethereum_headlines = [submission.title for submission in reddit.subreddit('Ethereum').hot(limit=10) if not submission.stickied]\n",
    "\n",
    "print('Bitcoin Headlines:', bitcoin_headlines)\n",
    "print('Ethereum Headlines:', ethereum_headlines)\n"
   ]
  },
  {
   "cell_type": "markdown",
   "id": "e1dff26e",
   "metadata": {},
   "source": [
    "## 4. Fetch Sample Headlines from RSS Feeds\n",
    "Use feedparser to fetch and parse headlines from CoinDesk and CoinTelegraph RSS feeds."
   ]
  },
  {
   "cell_type": "code",
   "execution_count": 5,
   "id": "bae35f17",
   "metadata": {},
   "outputs": [
    {
     "name": "stdout",
     "output_type": "stream",
     "text": [
      "CoinDesk Headlines: ['U.S. Fed Officially Scraps Specialist Group Meant to Oversee Crypto Issues', 'Digital Asset Treasury Firms Plunge as Bitcoin Tumbles Below $117K, ETH Slides to $4.4K', 'Stellar Lumens Holds Firm as Network Growth Set Stage for Breakout', 'Czech Police Arrest Donor in Billion-Dollar Bitcoin Scandal: Report', 'HBAR Swings 6% as Institutional Activity Signals Support and Resistance Levels', 'Crypto Hackers Capitalize on ETH Surge, Offloading $72M This Week', 'Galaxy Secures $1.4B to Expand Helios Data Center for AI and HPC', \"Trump's SEC Chair Says Agency Is 'Mobilizing' to Update Custody, Other Guidance\", 'CoinDesk 20 Performance Update: Avalanche (AVAX) Gains 3.4% as Index Trades Higher', 'BONK Holds Key Support After Heavy Selling Hits Solana Meme Token']\n",
      "CoinTelegraph Headlines: ['Ether accumulation heats up: $882M in ETH snapped up by Bitmine, whale', 'Winklevoss’ Gemini files for Nasdaq listing after strong Bullish debut', 'Spot Ether ETFs post outflows after 8-day $3.7B inflow streak', 'Ether has ‘slightly more bullish path’ than Bitcoin: Santiment', 'Bitcoin and Ether ETFs post $40B volume in ‘biggest week ever’', 'Ether unstaking queue hits $3.8B: What does it mean for ETH price?', 'Here’s what happened in crypto today', 'Axie Infinity creator Ronin network coming back to Ethereum as L2', 'Digital Currency Group sues subsidiaries over $1.1B promissory note', 'Trump-linked American Bitcoin seeks Asia acquisitions to boost BTC holdings: Report']\n"
     ]
    }
   ],
   "source": [
    "# Fetch headlines from RSS feeds\n",
    "coindesk_feed = feedparser.parse(coindesk_url)\n",
    "cointelegraph_feed = feedparser.parse(cointelegraph_url)\n",
    "\n",
    "coindesk_headlines = [entry.title for entry in coindesk_feed.entries[:10]]\n",
    "cointelegraph_headlines = [entry.title for entry in cointelegraph_feed.entries[:10]]\n",
    "\n",
    "print('CoinDesk Headlines:', coindesk_headlines)\n",
    "print('CoinTelegraph Headlines:', cointelegraph_headlines)\n"
   ]
  },
  {
   "cell_type": "markdown",
   "id": "ef033a0b",
   "metadata": {},
   "source": [
    "## 5. Analyze Sentiment of Headlines\n",
    "Apply TextBlob sentiment analysis to each headline and compute average sentiment scores for each source."
   ]
  },
  {
   "cell_type": "code",
   "execution_count": 8,
   "id": "709e735c",
   "metadata": {},
   "outputs": [
    {
     "name": "stdout",
     "output_type": "stream",
     "text": [
      "r/Bitcoin Avg Sentiment: 0.06458333333333333\n",
      "r/Ethereum Avg Sentiment: 0.08750000000000001\n",
      "CoinDesk Avg Sentiment: -0.008750000000000003\n",
      "CoinTelegraph Avg Sentiment: 0.06208333333333334\n"
     ]
    }
   ],
   "source": [
    "# Helper function to get sentiment score\n",
    "\n",
    "def get_sentiment_score(text):\n",
    "    return TextBlob(text).sentiment.polarity\n",
    "\n",
    "# Analyze sentiment for each group\n",
    "bitcoin_scores = [get_sentiment_score(h) for h in bitcoin_headlines]\n",
    "ethereum_scores = [get_sentiment_score(h) for h in ethereum_headlines]\n",
    "coindesk_scores = [get_sentiment_score(h) for h in coindesk_headlines]\n",
    "cointelegraph_scores = [get_sentiment_score(h) for h in cointelegraph_headlines]\n",
    "\n",
    "# Compute averages\n",
    "bitcoin_avg = sum(bitcoin_scores) / len(bitcoin_scores) if bitcoin_scores else 0\n",
    "ethereum_avg = sum(ethereum_scores) / len(ethereum_scores) if ethereum_scores else 0\n",
    "coindesk_avg = sum(coindesk_scores) / len(coindesk_scores) if coindesk_scores else 0\n",
    "cointelegraph_avg = sum(cointelegraph_scores) / len(cointelegraph_scores) if cointelegraph_scores else 0\n",
    "\n",
    "print('r/Bitcoin Avg Sentiment:', bitcoin_avg)\n",
    "print('r/Ethereum Avg Sentiment:', ethereum_avg)\n",
    "print('CoinDesk Avg Sentiment:', coindesk_avg)\n",
    "print('CoinTelegraph Avg Sentiment:', cointelegraph_avg)\n"
   ]
  },
  {
   "cell_type": "markdown",
   "id": "f1ae65e0",
   "metadata": {},
   "source": [
    "## 6. Visualize Sentiment Scores\n",
    "Plot sentiment scores for each group of headlines using matplotlib or seaborn for easy comparison."
   ]
  },
  {
   "cell_type": "code",
   "execution_count": 9,
   "id": "0da64119",
   "metadata": {},
   "outputs": [
    {
     "name": "stderr",
     "output_type": "stream",
     "text": [
      "C:\\Users\\yaoch\\AppData\\Local\\Temp\\ipykernel_54972\\1478698180.py:8: FutureWarning: \n",
      "\n",
      "Passing `palette` without assigning `hue` is deprecated and will be removed in v0.14.0. Assign the `x` variable to `hue` and set `legend=False` for the same effect.\n",
      "\n",
      "  sns.barplot(x=sources, y=avgs, palette=\"viridis\")\n"
     ]
    },
    {
     "data": {
      "image/png": "[encoded data removed]",
      "text/plain": [
       "<Figure size 1000x600 with 1 Axes>"
      ]
     },
     "metadata": {},
     "output_type": "display_data"
    }
   ],
   "source": [
    "# Visualize sentiment scores\n",
    "sns.set(style=\"whitegrid\")\n",
    "plt.figure(figsize=(10,6))\n",
    "\n",
    "sources = ['Bitcoin Reddit', 'Ethereum Reddit', 'CoinDesk RSS', 'CoinTelegraph RSS']\n",
    "avgs = [bitcoin_avg, ethereum_avg, coindesk_avg, cointelegraph_avg]\n",
    "\n",
    "sns.barplot(x=sources, y=avgs, palette=\"viridis\")\n",
    "plt.title('Average Sentiment Scores for Crypto Headlines')\n",
    "plt.ylabel('Average Sentiment Polarity')\n",
    "plt.xlabel('Source')\n",
    "plt.ylim(-1, 1)\n",
    "plt.show()\n"
   ]
  },
  {
   "cell_type": "markdown",
   "id": "9fccc4ed",
   "metadata": {},
   "source": [
    "## 7. Manual Validation of Sentiment Reliability\n",
    "To truly validate sentiment reliability, manually label a few sample headlines as positive, negative, or neutral. Compare your labels to the model's output and calculate accuracy."
   ]
  },
  {
   "cell_type": "code",
   "execution_count": 14,
   "id": "6cf8c379",
   "metadata": {},
   "outputs": [
    {
     "name": "stdout",
     "output_type": "stream",
     "text": [
      "Headline: crypto is amazing\n",
      "Human: Positive, Model: Positive, Score: 0.60\n",
      "\n",
      "Headline: Bitcoin is now 1.7% of global money\n",
      "Human: Positive, Model: Neutral, Score: 0.00\n",
      "\n",
      "Headline: U.S. Fed Officially Scraps Specialist Group Meant to Oversee Crypto Issues\n",
      "Human: Neutral, Model: Neutral, Score: 0.00\n",
      "\n",
      "Headline: Ether accumulation heats up: $882M in ETH snapped up by Bitmine, whale\n",
      "Human: Positive, Model: Neutral, Score: 0.00\n",
      "\n",
      "Manual validation accuracy: 50.00%\n"
     ]
    }
   ],
   "source": [
    "# Example: Manually label a few sample headlines and compare to model output\n",
    "# Fill in your manual labels below (\"Positive\", \"Negative\", \"Neutral\")\n",
    "manual_labels = [\n",
    "    # (headline, your_label)\n",
    "    (bitcoin_headlines[0], \"Positive\"),\n",
    "    (bitcoin_headlines[1], \"Positive\"),\n",
    "    (coindesk_headlines[0], \"Neutral\"),\n",
    "    (cointelegraph_headlines[0], \"Positive\"),\n",
    "    # Add more as needed\n",
    "]\n",
    "\n",
    "def label_from_score(score):\n",
    "    if score > 0.2:\n",
    "        return \"Positive\"\n",
    "    elif score < -0.2:\n",
    "        return \"Negative\"\n",
    "    else:\n",
    "        return \"Neutral\"\n",
    "\n",
    "matches = 0\n",
    "for text, human_label in manual_labels:\n",
    "    model_score = get_sentiment_score(text)\n",
    "    model_label = label_from_score(model_score)\n",
    "    print(f\"Headline: {text}\\nHuman: {human_label}, Model: {model_label}, Score: {model_score:.2f}\\n\")\n",
    "    if model_label == human_label:\n",
    "        matches += 1\n",
    "\n",
    "accuracy = matches / len(manual_labels) if manual_labels else 0\n",
    "print(f\"Manual validation accuracy: {accuracy:.2%}\")\n"
   ]
  },
  {
   "cell_type": "code",
   "execution_count": 12,
   "id": "58beaf97",
   "metadata": {},
   "outputs": [
    {
     "name": "stdout",
     "output_type": "stream",
     "text": [
      "Bitcoin is amazing!: 0.7500000000000001\n",
      "Crypto is terrible!: -1.0\n"
     ]
    }
   ],
   "source": [
    "# Test TextBlob sentiment on clear positive and negative sentences\n",
    "print('Bitcoin is amazing!:', get_sentiment_score(\"Bitcoin is amazing!\"))\n",
    "print('Crypto is terrible!:', get_sentiment_score(\"Crypto is terrible!\"))"
   ]
  },
  {
   "cell_type": "markdown",
   "id": "15825363",
   "metadata": {},
   "source": [
    "## Findings & Conclusion\n",
    "- The TextBlob sentiment model was tested on sample crypto headlines from Reddit and RSS feeds.\n",
    "- Manual labeling showed that TextBlob often returns a neutral score (0.00) for factual or financial headlines, even when human judgment finds positive or negative sentiment.\n",
    "- Manual validation accuracy was low, indicating limited reliability of TextBlob for this domain.\n",
    "- Additional tests confirmed the model works for sentences with clear emotional language, but struggles with short, objective news headlines.\n",
    "- For accurate sentiment analysis of crypto/finance news, manual review or more advanced, domain-specific models are recommended.\n",
    "\n",
    "**Conclusion:**\n",
    "TextBlob provides basic sentiment analysis but is not well-suited for crypto headlines, which often lack strong sentiment cues. Manual validation is important, and more sophisticated models may be needed for reliable results in this context."
   ]
  }
 ],
 "metadata": {
  "kernelspec": {
   "display_name": "venv",
   "language": "python",
   "name": "python3"
  },
  "language_info": {
   "codemirror_mode": {
    "name": "ipython",
    "version": 3
   },
   "file_extension": ".py",
   "mimetype": "text/x-python",
   "name": "python",
   "nbconvert_exporter": "python",
   "pygments_lexer": "ipython3",
   "version": "3.12.10"
  }
 },
 "nbformat": 4,
 "nbformat_minor": 5
}
